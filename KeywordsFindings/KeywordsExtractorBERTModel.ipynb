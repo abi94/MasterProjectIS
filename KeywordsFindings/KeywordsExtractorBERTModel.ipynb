{
 "cells": [
  {
   "cell_type": "code",
   "execution_count": 1,
   "id": "1bea5c99-c92e-4a59-bbf2-6ca0e702d747",
   "metadata": {
    "tags": []
   },
   "outputs": [
    {
     "name": "stdout",
     "output_type": "stream",
     "text": [
      "Collecting keybert\n",
      "  Downloading keybert-0.8.4.tar.gz (29 kB)\n",
      "  Preparing metadata (setup.py) ... \u001b[?25ldone\n",
      "\u001b[?25hCollecting sentence-transformers>=0.3.8 (from keybert)\n",
      "  Downloading sentence_transformers-2.6.1-py3-none-any.whl.metadata (11 kB)\n",
      "Requirement already satisfied: scikit-learn>=0.22.2 in /opt/anaconda3/lib/python3.11/site-packages (from keybert) (1.2.2)\n",
      "Requirement already satisfied: numpy>=1.18.5 in /opt/anaconda3/lib/python3.11/site-packages (from keybert) (1.26.4)\n",
      "Requirement already satisfied: rich>=10.4.0 in /opt/anaconda3/lib/python3.11/site-packages (from keybert) (13.3.5)\n",
      "Requirement already satisfied: markdown-it-py<3.0.0,>=2.2.0 in /opt/anaconda3/lib/python3.11/site-packages (from rich>=10.4.0->keybert) (2.2.0)\n",
      "Requirement already satisfied: pygments<3.0.0,>=2.13.0 in /opt/anaconda3/lib/python3.11/site-packages (from rich>=10.4.0->keybert) (2.15.1)\n",
      "Requirement already satisfied: scipy>=1.3.2 in /opt/anaconda3/lib/python3.11/site-packages (from scikit-learn>=0.22.2->keybert) (1.11.4)\n",
      "Requirement already satisfied: joblib>=1.1.1 in /opt/anaconda3/lib/python3.11/site-packages (from scikit-learn>=0.22.2->keybert) (1.2.0)\n",
      "Requirement already satisfied: threadpoolctl>=2.0.0 in /opt/anaconda3/lib/python3.11/site-packages (from scikit-learn>=0.22.2->keybert) (2.2.0)\n",
      "Requirement already satisfied: transformers<5.0.0,>=4.32.0 in /opt/anaconda3/lib/python3.11/site-packages (from sentence-transformers>=0.3.8->keybert) (4.39.2)\n",
      "Requirement already satisfied: tqdm in /opt/anaconda3/lib/python3.11/site-packages (from sentence-transformers>=0.3.8->keybert) (4.65.0)\n",
      "Requirement already satisfied: torch>=1.11.0 in /opt/anaconda3/lib/python3.11/site-packages (from sentence-transformers>=0.3.8->keybert) (2.2.2)\n",
      "Requirement already satisfied: huggingface-hub>=0.15.1 in /opt/anaconda3/lib/python3.11/site-packages (from sentence-transformers>=0.3.8->keybert) (0.22.2)\n",
      "Requirement already satisfied: Pillow in /opt/anaconda3/lib/python3.11/site-packages (from sentence-transformers>=0.3.8->keybert) (10.2.0)\n",
      "Requirement already satisfied: filelock in /opt/anaconda3/lib/python3.11/site-packages (from huggingface-hub>=0.15.1->sentence-transformers>=0.3.8->keybert) (3.13.1)\n",
      "Requirement already satisfied: fsspec>=2023.5.0 in /opt/anaconda3/lib/python3.11/site-packages (from huggingface-hub>=0.15.1->sentence-transformers>=0.3.8->keybert) (2023.10.0)\n",
      "Requirement already satisfied: packaging>=20.9 in /opt/anaconda3/lib/python3.11/site-packages (from huggingface-hub>=0.15.1->sentence-transformers>=0.3.8->keybert) (23.1)\n",
      "Requirement already satisfied: pyyaml>=5.1 in /opt/anaconda3/lib/python3.11/site-packages (from huggingface-hub>=0.15.1->sentence-transformers>=0.3.8->keybert) (6.0.1)\n",
      "Requirement already satisfied: requests in /opt/anaconda3/lib/python3.11/site-packages (from huggingface-hub>=0.15.1->sentence-transformers>=0.3.8->keybert) (2.31.0)\n",
      "Requirement already satisfied: typing-extensions>=3.7.4.3 in /opt/anaconda3/lib/python3.11/site-packages (from huggingface-hub>=0.15.1->sentence-transformers>=0.3.8->keybert) (4.9.0)\n",
      "Requirement already satisfied: mdurl~=0.1 in /opt/anaconda3/lib/python3.11/site-packages (from markdown-it-py<3.0.0,>=2.2.0->rich>=10.4.0->keybert) (0.1.0)\n",
      "Requirement already satisfied: sympy in /opt/anaconda3/lib/python3.11/site-packages (from torch>=1.11.0->sentence-transformers>=0.3.8->keybert) (1.12)\n",
      "Requirement already satisfied: networkx in /opt/anaconda3/lib/python3.11/site-packages (from torch>=1.11.0->sentence-transformers>=0.3.8->keybert) (3.1)\n",
      "Requirement already satisfied: jinja2 in /opt/anaconda3/lib/python3.11/site-packages (from torch>=1.11.0->sentence-transformers>=0.3.8->keybert) (3.1.3)\n",
      "Requirement already satisfied: regex!=2019.12.17 in /opt/anaconda3/lib/python3.11/site-packages (from transformers<5.0.0,>=4.32.0->sentence-transformers>=0.3.8->keybert) (2023.10.3)\n",
      "Requirement already satisfied: tokenizers<0.19,>=0.14 in /opt/anaconda3/lib/python3.11/site-packages (from transformers<5.0.0,>=4.32.0->sentence-transformers>=0.3.8->keybert) (0.15.2)\n",
      "Requirement already satisfied: safetensors>=0.4.1 in /opt/anaconda3/lib/python3.11/site-packages (from transformers<5.0.0,>=4.32.0->sentence-transformers>=0.3.8->keybert) (0.4.2)\n",
      "Requirement already satisfied: MarkupSafe>=2.0 in /opt/anaconda3/lib/python3.11/site-packages (from jinja2->torch>=1.11.0->sentence-transformers>=0.3.8->keybert) (2.1.3)\n",
      "Requirement already satisfied: charset-normalizer<4,>=2 in /opt/anaconda3/lib/python3.11/site-packages (from requests->huggingface-hub>=0.15.1->sentence-transformers>=0.3.8->keybert) (2.0.4)\n",
      "Requirement already satisfied: idna<4,>=2.5 in /opt/anaconda3/lib/python3.11/site-packages (from requests->huggingface-hub>=0.15.1->sentence-transformers>=0.3.8->keybert) (3.4)\n",
      "Requirement already satisfied: urllib3<3,>=1.21.1 in /opt/anaconda3/lib/python3.11/site-packages (from requests->huggingface-hub>=0.15.1->sentence-transformers>=0.3.8->keybert) (2.0.7)\n",
      "Requirement already satisfied: certifi>=2017.4.17 in /opt/anaconda3/lib/python3.11/site-packages (from requests->huggingface-hub>=0.15.1->sentence-transformers>=0.3.8->keybert) (2024.2.2)\n",
      "Requirement already satisfied: mpmath>=0.19 in /opt/anaconda3/lib/python3.11/site-packages (from sympy->torch>=1.11.0->sentence-transformers>=0.3.8->keybert) (1.3.0)\n",
      "Downloading sentence_transformers-2.6.1-py3-none-any.whl (163 kB)\n",
      "\u001b[2K   \u001b[90m━━━━━━━━━━━━━━━━━━━━━━━━━━━━━━━━━━━━━━━━\u001b[0m \u001b[32m163.3/163.3 kB\u001b[0m \u001b[31m3.3 MB/s\u001b[0m eta \u001b[36m0:00:00\u001b[0ma \u001b[36m0:00:01\u001b[0m\n",
      "\u001b[?25hBuilding wheels for collected packages: keybert\n",
      "  Building wheel for keybert (setup.py) ... \u001b[?25ldone\n",
      "\u001b[?25h  Created wheel for keybert: filename=keybert-0.8.4-py3-none-any.whl size=39200 sha256=adf0748a5fcfdd2290238956d8c974b4f662ca14690126dc85c1ec5b87e9abcd\n",
      "  Stored in directory: /Users/abi94/Library/Caches/pip/wheels/a0/c7/34/c35525fc11f76fe759878e01896b47c46598ff359e3e0aa4b2\n",
      "Successfully built keybert\n",
      "Installing collected packages: sentence-transformers, keybert\n",
      "Successfully installed keybert-0.8.4 sentence-transformers-2.6.1\n"
     ]
    }
   ],
   "source": [
    "! pip install keybert"
   ]
  },
  {
   "cell_type": "code",
   "execution_count": 2,
   "id": "e3d1030a-ef22-4f0a-ac26-1a5d3d94f1f4",
   "metadata": {},
   "outputs": [],
   "source": [
    "%config Completer.use_jedi=False"
   ]
  },
  {
   "cell_type": "code",
   "execution_count": 3,
   "id": "0f95ca9e-5383-4ae2-88f5-ba24e29efb53",
   "metadata": {},
   "outputs": [],
   "source": [
    "from keybert import KeyBERT"
   ]
  },
  {
   "cell_type": "code",
   "execution_count": 5,
   "id": "e6b91fd7-5e6f-4866-b2dc-71ba0813d7ba",
   "metadata": {},
   "outputs": [],
   "source": [
    "model = KeyBERT(model=\"distilbert-base-nli-mean-tokens\")"
   ]
  },
  {
   "cell_type": "code",
   "execution_count": 14,
   "id": "f5149104-3564-4a13-ad47-8067b88ab03a",
   "metadata": {},
   "outputs": [],
   "source": [
    "words = \"\"\"\n",
    "       whistleblow\n",
    "       Facebook whistleblow\n",
    "       Twitter whistleblow\n",
    "       Microsoft whistleblow\n",
    "       Google whistleblow\n",
    "       \"\"\""
   ]
  },
  {
   "cell_type": "code",
   "execution_count": 20,
   "id": "5f7cf9f0-8d2f-47c1-a673-e9f585a0e3ab",
   "metadata": {},
   "outputs": [
    {
     "name": "stdout",
     "output_type": "stream",
     "text": [
      "CPU times: user 75.9 ms, sys: 19.7 ms, total: 95.6 ms\n",
      "Wall time: 75.4 ms\n"
     ]
    },
    {
     "data": {
      "text/plain": [
       "[('facebook whistleblow', 0.8426),\n",
       " ('whistleblow facebook', 0.8217),\n",
       " ('whistleblow google', 0.8171),\n",
       " ('google whistleblow', 0.8098),\n",
       " ('whistleblow twitter', 0.7642),\n",
       " ('twitter whistleblow', 0.7642),\n",
       " ('microsoft whistleblow', 0.6974),\n",
       " ('whistleblow microsoft', 0.6922),\n",
       " ('google', 0.5921),\n",
       " ('facebook', 0.5539)]"
      ]
     },
     "execution_count": 20,
     "metadata": {},
     "output_type": "execute_result"
    }
   ],
   "source": [
    "%%time\n",
    "model.extract_keywords(\n",
    "    words,\n",
    "    top_n=10,\n",
    "    keyphrase_ngram_range=(1, 2),\n",
    "    stop_words=\"english\",\n",
    ")"
   ]
  },
  {
   "cell_type": "code",
   "execution_count": 23,
   "id": "b1cca2c7-d6c2-432f-a501-088582c81071",
   "metadata": {},
   "outputs": [
    {
     "name": "stdout",
     "output_type": "stream",
     "text": [
      "CPU times: user 94.3 ms, sys: 17.2 ms, total: 112 ms\n",
      "Wall time: 77.6 ms\n"
     ]
    },
    {
     "data": {
      "text/plain": [
       "[('whistleblow', 0.3631),\n",
       " ('microsoft', 0.4014),\n",
       " ('twitter', 0.5375),\n",
       " ('facebook', 0.5539),\n",
       " ('google', 0.5921),\n",
       " ('whistleblow microsoft', 0.6922),\n",
       " ('microsoft whistleblow', 0.6974),\n",
       " ('google whistleblow', 0.8098),\n",
       " ('whistleblow google', 0.8171),\n",
       " ('whistleblow facebook', 0.8217)]"
      ]
     },
     "execution_count": 23,
     "metadata": {},
     "output_type": "execute_result"
    }
   ],
   "source": [
    "%%time\n",
    "model.extract_keywords(\n",
    "    words,\n",
    "    top_n=10,\n",
    "    keyphrase_ngram_range=(1, 2),\n",
    "    stop_words=\"english\",\n",
    "    use_maxsum=True,\n",
    "    nr_candidates=50\n",
    ")"
   ]
  },
  {
   "cell_type": "code",
   "execution_count": 24,
   "id": "89fdd546-b342-4874-959d-015a5ea90d3d",
   "metadata": {},
   "outputs": [
    {
     "name": "stdout",
     "output_type": "stream",
     "text": [
      "CPU times: user 96 ms, sys: 17.5 ms, total: 113 ms\n",
      "Wall time: 79.2 ms\n"
     ]
    },
    {
     "data": {
      "text/plain": [
       "[('whistleblow', 0.3631),\n",
       " ('microsoft', 0.4014),\n",
       " ('twitter', 0.5375),\n",
       " ('facebook', 0.5539),\n",
       " ('google', 0.5921),\n",
       " ('whistleblow microsoft', 0.6922),\n",
       " ('microsoft whistleblow', 0.6974),\n",
       " ('google whistleblow', 0.8098),\n",
       " ('whistleblow google', 0.8171),\n",
       " ('whistleblow facebook', 0.8217)]"
      ]
     },
     "execution_count": 24,
     "metadata": {},
     "output_type": "execute_result"
    }
   ],
   "source": [
    "%%time\n",
    "model.extract_keywords(\n",
    "    words,\n",
    "    top_n=10,\n",
    "    keyphrase_ngram_range=(1, 2),\n",
    "    stop_words=\"english\",\n",
    "    use_maxsum=True,\n",
    "    diversity=0.7\n",
    ")"
   ]
  },
  {
   "cell_type": "code",
   "execution_count": null,
   "id": "c86ac908-7971-4848-b2b2-05d3a0905931",
   "metadata": {},
   "outputs": [],
   "source": []
  }
 ],
 "metadata": {
  "kernelspec": {
   "display_name": "Python 3 (ipykernel)",
   "language": "python",
   "name": "python3"
  },
  "language_info": {
   "codemirror_mode": {
    "name": "ipython",
    "version": 3
   },
   "file_extension": ".py",
   "mimetype": "text/x-python",
   "name": "python",
   "nbconvert_exporter": "python",
   "pygments_lexer": "ipython3",
   "version": "3.11.7"
  }
 },
 "nbformat": 4,
 "nbformat_minor": 5
}
