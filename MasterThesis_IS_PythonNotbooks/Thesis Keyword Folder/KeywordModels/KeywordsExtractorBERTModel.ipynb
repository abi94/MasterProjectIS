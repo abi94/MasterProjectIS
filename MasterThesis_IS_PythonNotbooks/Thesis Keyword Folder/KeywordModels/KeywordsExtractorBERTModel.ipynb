{
 "cells": [
  {
   "cell_type": "code",
   "execution_count": null,
   "id": "6bdf7cea-e18c-4f44-ab2f-908529ee4efe",
   "metadata": {},
   "outputs": [],
   "source": [
    "! pip install keybert"
   ]
  },
  {
   "cell_type": "code",
   "execution_count": 2,
   "id": "e3d1030a-ef22-4f0a-ac26-1a5d3d94f1f4",
   "metadata": {},
   "outputs": [],
   "source": [
    "%config Completer.use_jedi=False"
   ]
  },
  {
   "cell_type": "code",
   "execution_count": 3,
   "id": "0f95ca9e-5383-4ae2-88f5-ba24e29efb53",
   "metadata": {},
   "outputs": [],
   "source": [
    "from keybert import KeyBERT"
   ]
  },
  {
   "cell_type": "code",
   "execution_count": 5,
   "id": "e6b91fd7-5e6f-4866-b2dc-71ba0813d7ba",
   "metadata": {},
   "outputs": [],
   "source": [
    "model = KeyBERT(model=\"distilbert-base-nli-mean-tokens\")"
   ]
  },
  {
   "cell_type": "code",
   "execution_count": 14,
   "id": "f5149104-3564-4a13-ad47-8067b88ab03a",
   "metadata": {},
   "outputs": [],
   "source": [
    "words = \"\"\"\n",
    "       whistleblow\n",
    "       Facebook whistleblow\n",
    "       Twitter whistleblow\n",
    "       Microsoft whistleblow\n",
    "       Google whistleblow\n",
    "       \"\"\""
   ]
  },
  {
   "cell_type": "code",
   "execution_count": null,
   "id": "ca415bb1-90cb-40de-9252-91faec5fdbeb",
   "metadata": {},
   "outputs": [],
   "source": [
    "%%time\n",
    "model.extract_keywords(\n",
    "    words,\n",
    "    top_n=10,\n",
    "    keyphrase_ngram_range=(1, 2),\n",
    "    stop_words=\"english\",\n",
    ")"
   ]
  },
  {
   "cell_type": "code",
   "execution_count": null,
   "id": "40136e89-a7cd-40c3-bb43-4bcd794da990",
   "metadata": {},
   "outputs": [],
   "source": [
    "%%time\n",
    "model.extract_keywords(\n",
    "    words,\n",
    "    top_n=10,\n",
    "    keyphrase_ngram_range=(1, 2),\n",
    "    stop_words=\"english\",\n",
    "    use_maxsum=True,\n",
    "    nr_candidates=50\n",
    ")"
   ]
  },
  {
   "cell_type": "code",
   "execution_count": null,
   "id": "f1e618a2-1fb3-43b0-ab86-b1098a03d608",
   "metadata": {},
   "outputs": [],
   "source": [
    "%%time\n",
    "model.extract_keywords(\n",
    "    words,\n",
    "    top_n=10,\n",
    "    keyphrase_ngram_range=(1, 2),\n",
    "    stop_words=\"english\",\n",
    "    use_maxsum=True,\n",
    "    diversity=0.7\n",
    ")"
   ]
  }
 ],
 "metadata": {
  "kernelspec": {
   "display_name": "Python 3 (ipykernel)",
   "language": "python",
   "name": "python3"
  },
  "language_info": {
   "codemirror_mode": {
    "name": "ipython",
    "version": 3
   },
   "file_extension": ".py",
   "mimetype": "text/x-python",
   "name": "python",
   "nbconvert_exporter": "python",
   "pygments_lexer": "ipython3",
   "version": "3.11.7"
  }
 },
 "nbformat": 4,
 "nbformat_minor": 5
}
