{
 "cells": [
  {
   "cell_type": "code",
   "execution_count": null,
   "id": "e05727c5-ab10-451e-8de1-855a24a7a79a",
   "metadata": {},
   "outputs": [],
   "source": [
    "import gensim.downloader as api"
   ]
  },
  {
   "cell_type": "code",
   "execution_count": null,
   "id": "ccda0fda-9be2-49e6-bc8e-18fe660c7583",
   "metadata": {},
   "outputs": [],
   "source": [
    "import datetime\n",
    "import pandas as pd\n",
    "pd.set_option('max_colwidth', None)"
   ]
  },
  {
   "cell_type": "code",
   "execution_count": null,
   "id": "c127295a-ccba-4b8d-b5b5-9b8f97a69177",
   "metadata": {},
   "outputs": [],
   "source": [
    "# Get the Word2Vec model\n",
    "model = api.load(\"word2vec-google-news-300\")\n",
    "Similar_Word_List = []\n",
    "\n",
    "# Function to find relevant keywords related to whistleblowing\n",
    "def Get_related_keywords_2_whistleblowing(target_word, top_n=10): ##Size of the related keywords\n",
    "    if target_word not in model:\n",
    "        return None\n",
    "    \n",
    "    similar_words = model.most_similar(target_word, topn=top_n)\n",
    "    return similar_words\n",
    "\n",
    "target_words = [\"whistleblowing\",\"whistleblow\", \"Facebook whistleblow\", \"Twitter whistleblow\", \"Google whistleblow\"] #Add the whistleblowing cases to the list\n",
    "for item in target_words:\n",
    "    related_keywords_WB = Get_related_keywords_2WB(item)\n",
    "    if related_keywords_WB is not None:\n",
    "        for keywordWhistleblowing, similarity in related_keywords_WB:\n",
    "            Similar_Word_List.append(keywordWhistleblowing) "
   ]
  },
  {
   "cell_type": "code",
   "execution_count": null,
   "id": "12a2917e-9ec9-4bc0-a465-928da741892f",
   "metadata": {},
   "outputs": [],
   "source": [
    "print(Similar_Word_List)"
   ]
  },
  {
   "cell_type": "code",
   "execution_count": null,
   "id": "0f628886-10d3-4935-9d91-62f9edef5122",
   "metadata": {},
   "outputs": [],
   "source": [
    "# Name of the text file 2 to write the whistleblowing keywords\n",
    "file_name = \"data/Whistleblowing_Keywords.txt\"\n",
    "\n",
    "# Open the file in write mode\n",
    "with open(file_name, 'w') as file:\n",
    "    # Iterate over the list and write each element to the file\n",
    "    for item in Similar_Word_List:\n",
    "        file.write(item + '\\n')"
   ]
  }
 ],
 "metadata": {
  "kernelspec": {
   "display_name": "Python 3 (ipykernel)",
   "language": "python",
   "name": "python3"
  },
  "language_info": {
   "codemirror_mode": {
    "name": "ipython",
    "version": 3
   },
   "file_extension": ".py",
   "mimetype": "text/x-python",
   "name": "python",
   "nbconvert_exporter": "python",
   "pygments_lexer": "ipython3",
   "version": "3.11.7"
  }
 },
 "nbformat": 4,
 "nbformat_minor": 5
}
