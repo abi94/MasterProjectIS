{
 "cells": [
  {
   "cell_type": "code",
   "execution_count": 2,
   "id": "02f918f6-8953-4a4f-918f-ebd2a327180b",
   "metadata": {},
   "outputs": [
    {
     "name": "stdout",
     "output_type": "stream",
     "text": [
      "Hello world\n"
     ]
    }
   ],
   "source": [
    "print(\"Hello world\")"
   ]
  },
  {
   "cell_type": "code",
   "execution_count": 12,
   "id": "c45fde1e-2c38-4e2c-8a65-10f90fab0e1d",
   "metadata": {},
   "outputs": [
    {
     "name": "stdout",
     "output_type": "stream",
     "text": [
      "The People Looking for Dirt to Discredit Twitter Whistleblower “Mudge” Are Not Going to Find It\n",
      "https://slate.com/news-and-politics/2022/09/twitter-whistleblower-mudge-hearing-dirt-nope.html\n",
      "0.92\n",
      "Twitter whistleblower cites security flaws before Congress\n",
      "https://apnews.com/article/elon-musk-twitter-inc-technology-congress-838866addb81ca93473b1c0dd280c2f2?utm_source=homepage&utm_medium=TopNews&utm_campaign=position_6\n",
      "0.67\n",
      "The Twitter whistleblower is a bigger threat than Musk ever was\n",
      "https://finance.yahoo.com/news/the-twitter-whistleblower-is-a-bigger-threat-than-musk-ever-was-182525904.html\n",
      "0.4\n",
      "5 takeaways from Twitter whistleblower Peiter Zatko\n",
      "https://apnews.com/article/twitter-inc-technology-f5750ade0864dbf92aad74cc43f6a51b\n",
      "0.95\n",
      "Elon Musk to push for more Twitter data after whistleblower\n",
      "https://nypost.com/2022/08/23/elon-musk-to-push-for-more-internal-twitter-data-after-whistleblower/\n",
      "0.56\n",
      "Facebook whistleblower Frances Haugen 'cautiously optimistic' about Elon Musk Twitter acquisition\n",
      "https://www.foxbusiness.com/technology/frances-haugen-elon-musk-twitter-acquisition\n",
      "0.63\n",
      "Microsoft is tied to hundreds of millions of dollars in foreign bribes, whistleblower alleges\n",
      "https://www.theverge.com/2022/3/25/22995144/microsoft-foreign-corrupt-practices-bribery-whistleblower-contracting\n",
      "0.96\n",
      "FAA says lack of federal whistleblower protections is 'enormous factor' hindering Blue Origin safety review\n",
      "https://www.cnn.com/2021/12/10/tech/blue-origin-safety-review-whistleblower-scn/index.html\n",
      "0.97\n",
      "Boeing outsourced Air Force One work to insolvent Port San Antonio company tied to Saudis: whistleblower\n",
      "https://www.expressnews.com/business/local/article/Air-Force-One-work-tied-to-Saudis-16595887.php\n",
      "0.68\n",
      "This California bill could help more tech whistleblowers speak out\n",
      "https://www.fastcompany.com/90602709/silenced-no-more-act-pinterest-tech-whistleblowers\n",
      "0.95\n"
     ]
    },
    {
     "data": {
      "text/plain": [
       "'\\n    \\ntop_posts = subreddit.top(limit=5)\\nnew_posts = subreddit.top(limit=5)\\n\\nfor post in new_posts:\\n    print(\"Title - \", post.title)\\n    print(\"ID - \", post.id)\\n    print(\"Author - \", post.author)\\n    print(\"URL - \", post.url)\\n    print(\"Score - \", post.score)\\n    print(\"Comment count - \", post.num_comments) \\n    print(\"Created - \", post.created_utc)\\n    print(\"\\n\")\\n\\npost = reddit.submission(id=\"t3ibu1\")\\n\\ncomments = post.comments\\n\\n\\nfor comment in comments[:4]:\\n    print(\"Printing comment..\")\\n    print(\"Comment body - \", comment.body)\\n    print(\"Author - \", comment.author)\\n    print(\"\\n\")\\n    \\n'"
      ]
     },
     "execution_count": 12,
     "metadata": {},
     "output_type": "execute_result"
    }
   ],
   "source": [
    "import praw\n",
    "\n",
    "\n",
    "reddit = praw.Reddit(\n",
    "client_id = \"KEogXJHap1nKNfd1u6IpNA\",\n",
    "client_secret=\"5dOZZ63Wi57e3YaGNIHJDLAu3pzrjg\",  \n",
    "user_agent = \"my-app by u/Competitive-Shock179\",    \n",
    ")\n",
    "\n",
    "# Define the subreddit to search in\n",
    "subreddit = reddit.subreddit(\"tech\")\n",
    "\n",
    "# Define the subreddit to search in, in this posts that contain the keyword whistleblwoing\n",
    "keyword = 'Whistleblowing'\n",
    "\n",
    "# Collect posts containing the keyword \"Whistleblowing\"\n",
    "for submission in subreddit.search(keyword, sort='new', limit=10): # adjust limit as needed\n",
    "    print(submission.title)\n",
    "    print(submission.url)\n",
    "    print(submission.upvote_ratio)\n",
    "\n",
    "\n",
    "\"\"\"\n",
    "    \n",
    "top_posts = subreddit.top(limit=5)\n",
    "new_posts = subreddit.top(limit=5)\n",
    "\n",
    "for post in new_posts:\n",
    "    print(\"Title - \", post.title)\n",
    "    print(\"ID - \", post.id)\n",
    "    print(\"Author - \", post.author)\n",
    "    print(\"URL - \", post.url)\n",
    "    print(\"Score - \", post.score)\n",
    "    print(\"Comment count - \", post.num_comments) \n",
    "    print(\"Created - \", post.created_utc)\n",
    "    print(\"\\n\")\n",
    "\n",
    "post = reddit.submission(id=\"t3ibu1\")\n",
    "\n",
    "comments = post.comments\n",
    "\n",
    "\n",
    "for comment in comments[:4]:\n",
    "    print(\"Printing comment..\")\n",
    "    print(\"Comment body - \", comment.body)\n",
    "    print(\"Author - \", comment.author)\n",
    "    print(\"\\n\")\n",
    "    \n",
    "\"\"\"\n"
   ]
  },
  {
   "cell_type": "code",
   "execution_count": null,
   "id": "6608c2e4-ab15-4e01-9794-65dda661ad79",
   "metadata": {},
   "outputs": [],
   "source": [
    "\n",
    "\n"
   ]
  }
 ],
 "metadata": {
  "kernelspec": {
   "display_name": "Python 3 (ipykernel)",
   "language": "python",
   "name": "python3"
  },
  "language_info": {
   "codemirror_mode": {
    "name": "ipython",
    "version": 3
   },
   "file_extension": ".py",
   "mimetype": "text/x-python",
   "name": "python",
   "nbconvert_exporter": "python",
   "pygments_lexer": "ipython3",
   "version": "3.11.7"
  }
 },
 "nbformat": 4,
 "nbformat_minor": 5
}
